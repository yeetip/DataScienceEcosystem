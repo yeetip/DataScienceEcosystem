{
 "cells": [
  {
   "cell_type": "markdown",
   "id": "f73dccc9-7c3e-4fdb-b492-fad58a03a711",
   "metadata": {
    "tags": []
   },
   "source": [
    "# Data Science Tools and Ecosystem"
   ]
  },
  {
   "cell_type": "code",
   "execution_count": null,
   "id": "b6ad3d06-6492-49a2-8158-e2e39e8a531b",
   "metadata": {},
   "outputs": [],
   "source": []
  },
  {
   "cell_type": "markdown",
   "id": "d226a36b-1139-46d6-91e6-56b174a0bc78",
   "metadata": {},
   "source": [
    "In this notebook, Data Science Tools and Ecosystem are summarized."
   ]
  },
  {
   "cell_type": "code",
   "execution_count": null,
   "id": "90b41a2a-85bc-43e9-8919-82d0dfcb197a",
   "metadata": {},
   "outputs": [],
   "source": []
  },
  {
   "cell_type": "markdown",
   "id": "e3976f90-b489-438d-908c-c99671a30245",
   "metadata": {},
   "source": [
    "**Objectives:**\n",
    "* List popular languages for Data Science\n",
    "* List Data Science Libraries \n",
    "* List Data Science Tools\n",
    "* Arithmetic Expression Examples"
   ]
  },
  {
   "cell_type": "markdown",
   "id": "a3cba597-97ce-4e74-94ab-17782176bf70",
   "metadata": {},
   "source": []
  },
  {
   "cell_type": "markdown",
   "id": "7d663b86-65a3-48fe-8864-daf42ce8dfeb",
   "metadata": {},
   "source": [
    "Some of the popular languages that Data Scientists use are:\n",
    "1. Python\n",
    "2. R\n",
    "3. SQL\n",
    "4. Java\n",
    "5. C++\n",
    "6. Scala"
   ]
  },
  {
   "cell_type": "code",
   "execution_count": null,
   "id": "4125f4b3-5c31-408d-8fc3-393f0cce2b9d",
   "metadata": {},
   "outputs": [],
   "source": []
  },
  {
   "cell_type": "markdown",
   "id": "db7b67ec-48cb-481a-a076-238ea986114d",
   "metadata": {},
   "source": [
    "Some of the commonly used libraries used by Data Scientists include:\n",
    "1. Pandas\n",
    "2. NumPy\n",
    "3. SciPy\n",
    "4. Matplotlib"
   ]
  },
  {
   "cell_type": "code",
   "execution_count": null,
   "id": "87bb070f-9b2b-4eda-a414-c696855409e3",
   "metadata": {},
   "outputs": [],
   "source": []
  },
  {
   "cell_type": "markdown",
   "id": "e02bee58-51de-4316-8b40-675a5db277b6",
   "metadata": {
    "tags": []
   },
   "source": [
    "| Data Science Tools |\n",
    "| ---- |\n",
    "| Jupyter |\n",
    "| Apache Zeppelin |\n",
    "| RStudio |"
   ]
  },
  {
   "cell_type": "code",
   "execution_count": null,
   "id": "2061d1b2-4148-4247-bad9-1b227045113d",
   "metadata": {},
   "outputs": [],
   "source": []
  },
  {
   "cell_type": "markdown",
   "id": "524c64d6-fa9c-4380-8f00-45f54c8bb98f",
   "metadata": {},
   "source": [
    "Below are a few examples of evaluating arithmetic expressions in Python"
   ]
  },
  {
   "cell_type": "code",
   "execution_count": null,
   "id": "0e5c8022-bcbd-4c1a-93f7-988fc00ea6a9",
   "metadata": {},
   "outputs": [],
   "source": []
  },
  {
   "cell_type": "code",
   "execution_count": 14,
   "id": "1bc243e3-116a-494a-b5e3-3cc6a0fa8943",
   "metadata": {
    "tags": []
   },
   "outputs": [
    {
     "data": {
      "text/plain": [
       "17"
      ]
     },
     "execution_count": 14,
     "metadata": {},
     "output_type": "execute_result"
    }
   ],
   "source": [
    "(3*4)+5 # This is a simple arithmetic expression to multiply then add integers"
   ]
  },
  {
   "cell_type": "code",
   "execution_count": null,
   "id": "c1adcc25-e085-4f94-bf90-5f3bf0d8ea30",
   "metadata": {},
   "outputs": [],
   "source": []
  },
  {
   "cell_type": "code",
   "execution_count": 15,
   "id": "75a7cefd-fbc7-403e-9bfd-3153c7e9d229",
   "metadata": {
    "tags": []
   },
   "outputs": [
    {
     "data": {
      "text/plain": [
       "3.3333333333333335"
      ]
     },
     "execution_count": 15,
     "metadata": {},
     "output_type": "execute_result"
    }
   ],
   "source": [
    "200/60 # This will convert 200 minutes to hours by diving by 60"
   ]
  },
  {
   "cell_type": "code",
   "execution_count": null,
   "id": "f392585d-dc18-415f-91ce-5057cf05c8a1",
   "metadata": {},
   "outputs": [],
   "source": []
  },
  {
   "cell_type": "markdown",
   "id": "8b28a332-bfdc-4c24-829c-78cf9472df12",
   "metadata": {},
   "source": [
    "## Author\n",
    "Sai Yee Tip"
   ]
  },
  {
   "cell_type": "code",
   "execution_count": null,
   "id": "077076d5-f0f3-4e59-ab35-ee75dbd5f384",
   "metadata": {},
   "outputs": [],
   "source": []
  }
 ],
 "metadata": {
  "kernelspec": {
   "display_name": "Python",
   "language": "python",
   "name": "conda-env-python-py"
  },
  "language_info": {
   "codemirror_mode": {
    "name": "ipython",
    "version": 3
   },
   "file_extension": ".py",
   "mimetype": "text/x-python",
   "name": "python",
   "nbconvert_exporter": "python",
   "pygments_lexer": "ipython3",
   "version": "3.7.12"
  }
 },
 "nbformat": 4,
 "nbformat_minor": 5
}
